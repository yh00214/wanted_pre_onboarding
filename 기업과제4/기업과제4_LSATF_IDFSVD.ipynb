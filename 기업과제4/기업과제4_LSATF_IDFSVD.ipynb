{
  "cells": [
    {
      "cell_type": "markdown",
      "source": [
        "# **기업과제4_10팀_LSATF-IDFSVD**.ipynb\n",
        "본 노트북은 요약 모델이 실제로 **본문의 주제**를 잘 감지하고 있는지 정성적으로 검증하기 위해 작성되었습니다.   \n",
        "모델의 전반적인 학습과정이 궁금하시다면 `기업과제4_10팀.ipynb`을,\n",
        "모델을 정량적으로 평가한 메트릭을 원하시면 `metric.py`을 확인해주시길 바랍니다.\n",
        "```\n",
        "⚓ 원티드 프리온보딩 10팀 / 강상훈, 권예환, 남준우, 장수림, 조성빈\n",
        "```"
      ],
      "metadata": {
        "id": "JfmdJjPikjdU"
      },
      "id": "JfmdJjPikjdU"
    },
    {
      "cell_type": "markdown",
      "source": [
        "# Appendix: LSATF-IDFSVD"
      ],
      "metadata": {
        "id": "JnviwXOPlmDu"
      },
      "id": "JnviwXOPlmDu"
    },
    {
      "cell_type": "code",
      "execution_count": null,
      "id": "32fb2b92",
      "metadata": {
        "id": "32fb2b92"
      },
      "outputs": [],
      "source": [
        "from bs4 import BeautifulSoup\n",
        "import numpy as np\n",
        "import pandas as pd\n",
        "import re"
      ]
    },
    {
      "cell_type": "code",
      "execution_count": null,
      "id": "ece0972a",
      "metadata": {
        "id": "ece0972a",
        "outputId": "0fa6e69c-b076-4819-d7c0-7578f26bc3f9"
      },
      "outputs": [
        {
          "data": {
            "text/html": [
              "<div>\n",
              "<style scoped>\n",
              "    .dataframe tbody tr th:only-of-type {\n",
              "        vertical-align: middle;\n",
              "    }\n",
              "\n",
              "    .dataframe tbody tr th {\n",
              "        vertical-align: top;\n",
              "    }\n",
              "\n",
              "    .dataframe thead th {\n",
              "        text-align: right;\n",
              "    }\n",
              "</style>\n",
              "<table border=\"1\" class=\"dataframe\">\n",
              "  <thead>\n",
              "    <tr style=\"text-align: right;\">\n",
              "      <th></th>\n",
              "      <th>TITLE</th>\n",
              "      <th>CONTENT</th>\n",
              "      <th>PUBLISH_DT</th>\n",
              "    </tr>\n",
              "  </thead>\n",
              "  <tbody>\n",
              "    <tr>\n",
              "      <th>0</th>\n",
              "      <td>스털링 다이빙 논란 종결?… “오른쪽 다리 접촉 있었잖아”</td>\n",
              "      <td>[스포탈코리아] 유럽축구연맹(UEFA) 유로 2020 심판위원장 로베르토 로세티가 ...</td>\n",
              "      <td>2021-07-15</td>\n",
              "    </tr>\n",
              "    <tr>\n",
              "      <th>1</th>\n",
              "      <td>‘디 마리아 없다’ 유로X코파 베스트11, 이탈리아만 7명</td>\n",
              "      <td>[스포탈코리아] 유로 2020과 코파 아메리카 2021로 베스트11을 만든다면 어떤...</td>\n",
              "      <td>2021-07-15</td>\n",
              "    </tr>\n",
              "    <tr>\n",
              "      <th>2</th>\n",
              "      <td>‘슈퍼컴퓨터 예측’ 맨시티 우승-맨유 4위… 토트넘은 ‘6위’</td>\n",
              "      <td>[스포탈코리아] 새 시즌이 시작하기도 전에 슈퍼컴퓨터가 예상한 순위가 나왔다.\\n\\...</td>\n",
              "      <td>2021-07-15</td>\n",
              "    </tr>\n",
              "    <tr>\n",
              "      <th>3</th>\n",
              "      <td>“이재성, 완벽한 프로… 마인츠서 성공할 것” 킬 디렉터의 애정 듬뿍 응원</td>\n",
              "      <td>[스포탈코리아] 홀슈타인 킬 우베 스토버 디렉터가 이재성을 향해 응원 메시지를 띄웠...</td>\n",
              "      <td>2021-07-15</td>\n",
              "    </tr>\n",
              "    <tr>\n",
              "      <th>4</th>\n",
              "      <td>‘홈킷과 딴판’ 바르사 팬들, NEW 어웨이 셔츠 호평… “가장 좋아하는 색!”</td>\n",
              "      <td>[스포탈코리아] FC 바르셀로나가 새 시즌 원정 유니폼을 공개했다. 팬들은 만족스럽...</td>\n",
              "      <td>2021-07-15</td>\n",
              "    </tr>\n",
              "  </tbody>\n",
              "</table>\n",
              "</div>"
            ],
            "text/plain": [
              "                                          TITLE  \\\n",
              "0              스털링 다이빙 논란 종결?… “오른쪽 다리 접촉 있었잖아”   \n",
              "1              ‘디 마리아 없다’ 유로X코파 베스트11, 이탈리아만 7명   \n",
              "2            ‘슈퍼컴퓨터 예측’ 맨시티 우승-맨유 4위… 토트넘은 ‘6위’   \n",
              "3     “이재성, 완벽한 프로… 마인츠서 성공할 것” 킬 디렉터의 애정 듬뿍 응원   \n",
              "4  ‘홈킷과 딴판’ 바르사 팬들, NEW 어웨이 셔츠 호평… “가장 좋아하는 색!”   \n",
              "\n",
              "                                             CONTENT  PUBLISH_DT  \n",
              "0  [스포탈코리아] 유럽축구연맹(UEFA) 유로 2020 심판위원장 로베르토 로세티가 ...  2021-07-15  \n",
              "1  [스포탈코리아] 유로 2020과 코파 아메리카 2021로 베스트11을 만든다면 어떤...  2021-07-15  \n",
              "2  [스포탈코리아] 새 시즌이 시작하기도 전에 슈퍼컴퓨터가 예상한 순위가 나왔다.\\n\\...  2021-07-15  \n",
              "3  [스포탈코리아] 홀슈타인 킬 우베 스토버 디렉터가 이재성을 향해 응원 메시지를 띄웠...  2021-07-15  \n",
              "4  [스포탈코리아] FC 바르셀로나가 새 시즌 원정 유니폼을 공개했다. 팬들은 만족스럽...  2021-07-15  "
            ]
          },
          "execution_count": 2,
          "metadata": {},
          "output_type": "execute_result"
        }
      ],
      "source": [
        "df = pd.read_csv(\"./sports_news_data.csv\")\n",
        "df.head()"
      ]
    },
    {
      "cell_type": "code",
      "execution_count": null,
      "id": "06fc55c8",
      "metadata": {
        "id": "06fc55c8"
      },
      "outputs": [],
      "source": [
        "import numpy as np\n",
        "def HTMLCleaner(doc):\n",
        "  \"\"\" 본문에서 불필요한 HTML Tags를 제거하고 문장을 나눕니다. \"\"\"\n",
        "  doc = re.sub('\\n', '<p>', doc)                # Unify Newline Character\n",
        "  doc = re.sub('\\.', '.<p>', doc)\n",
        "  soup = BeautifulSoup(doc, \"html.parser\")      # Handling HTML tags\n",
        "  blocklist = ['span', 'strong', 'blockquote']  # Remove specific tags\n",
        "  for tag in blocklist:\n",
        "    tagging_soup = soup.findAll(tag)\n",
        "    for script in tagging_soup:\n",
        "      script.decompose()\n",
        "  return [sentence for sentence in soup.strings]\n",
        "\n",
        "def DocCleaner(text):\n",
        "  \"\"\" 개별 문서에 적용해 문서를 전처리하는 함수입니다. \"\"\"\n",
        "  doc = HTMLCleaner(text)\n",
        "  if doc:\n",
        "    if doc[0].startswith('['):                # Remove media source\n",
        "      doc[0] = re.sub('\\[.*?\\] ', '', doc[0])\n",
        "      doc[0] = re.sub(r'^.*?= ', '', doc[0])  # Remove reporter name\n",
        "\n",
        "    if doc[-1].startswith(('사진', '그래픽')):   # Remove photo source\n",
        "      doc = doc[:-1]\n",
        "\n",
        "  doc = [x.strip() for x in doc if x]       # Remove empty string in sentence list\n",
        "  doc = [x for x in doc if x]\n",
        "  doc = [x for x in doc if x != ' '] \n",
        "\n",
        "  # TODO: 인용문(\"\") 처리\n",
        "  return doc\n",
        "\n",
        "def Preprocessing(df, col='CONTENT'):\n",
        "  \"\"\" 전체 데이터프레임에 적용해 문서를 전처리하는 함수입니다. \"\"\"\n",
        "  # Drop NaN records\n",
        "  df = df.dropna().reset_index(drop=True)\n",
        "  # Cleaning the documents\n",
        "  df['TEXT'] = df[col].apply(lambda x : DocCleaner(x))\n",
        "  # Removing Outlier (using IQR)\n",
        "  df['No_of_SENT'] = df['TEXT'].apply(lambda x : len(x))\n",
        "#   q25 = np.quantile(df['No_of_SENT'], 0.25)\n",
        "#   q75 = np.quantile(df['No_of_SENT'], 0.75)\n",
        "#   iqr = (q75 - q25)\n",
        "#   upper = q75 + (iqr * 1.5)\n",
        "#   lower = q25 - (iqr * 1.5)\n",
        "#   df = df[(df['No_of_SENT'] > lower) & (df['No_of_SENT'] < upper)].reset_index(drop=True)\n",
        "\n",
        "  return df[['TITLE', 'TEXT', 'PUBLISH_DT']]\n",
        "\n",
        "new_df = Preprocessing(df, col='CONTENT')"
      ]
    },
    {
      "cell_type": "code",
      "execution_count": null,
      "id": "b6995637",
      "metadata": {
        "id": "b6995637"
      },
      "outputs": [],
      "source": [
        "from tqdm import tqdm"
      ]
    },
    {
      "cell_type": "code",
      "execution_count": null,
      "id": "3c09a962",
      "metadata": {
        "id": "3c09a962",
        "outputId": "040e437f-9f85-4bed-ae5b-4ac9c4fb11fc"
      },
      "outputs": [
        {
          "name": "stderr",
          "output_type": "stream",
          "text": [
            "100%|████████████████████████████████████████████████████████████████████████████| 9075/9075 [2:30:00<00:00,  1.01it/s]\n"
          ]
        }
      ],
      "source": [
        "from pororo import Pororo\n",
        "summ = Pororo(task=\"summarization\", model=\"abstractive\", lang=\"ko\")\n",
        "summed = []\n",
        "for text in tqdm(new_df.TEXT):\n",
        "    summed.append(summ(' '.join(text)))"
      ]
    },
    {
      "cell_type": "code",
      "execution_count": null,
      "id": "5d8aa74c",
      "metadata": {
        "id": "5d8aa74c"
      },
      "outputs": [],
      "source": [
        "new_df['summary'] = summed"
      ]
    },
    {
      "cell_type": "code",
      "execution_count": null,
      "id": "a4aa116e",
      "metadata": {
        "id": "a4aa116e"
      },
      "outputs": [],
      "source": [
        "new_df['summary'].to_csv('./pororo-abstractive-summary.csv')"
      ]
    },
    {
      "cell_type": "code",
      "execution_count": null,
      "id": "411dfbd4",
      "metadata": {
        "id": "411dfbd4"
      },
      "outputs": [],
      "source": [
        "summed = pd.read_csv('./pororo-abstractive-summary.csv')\n",
        "new_df['summary'] = summed.summary"
      ]
    },
    {
      "cell_type": "code",
      "execution_count": null,
      "id": "dd8a457d",
      "metadata": {
        "id": "dd8a457d",
        "outputId": "412b7fdd-0807-493d-f310-b76caa6769da"
      },
      "outputs": [
        {
          "data": {
            "text/html": [
              "<div>\n",
              "<style scoped>\n",
              "    .dataframe tbody tr th:only-of-type {\n",
              "        vertical-align: middle;\n",
              "    }\n",
              "\n",
              "    .dataframe tbody tr th {\n",
              "        vertical-align: top;\n",
              "    }\n",
              "\n",
              "    .dataframe thead th {\n",
              "        text-align: right;\n",
              "    }\n",
              "</style>\n",
              "<table border=\"1\" class=\"dataframe\">\n",
              "  <thead>\n",
              "    <tr style=\"text-align: right;\">\n",
              "      <th></th>\n",
              "      <th>TITLE</th>\n",
              "      <th>TEXT</th>\n",
              "      <th>PUBLISH_DT</th>\n",
              "      <th>summary</th>\n",
              "    </tr>\n",
              "  </thead>\n",
              "  <tbody>\n",
              "    <tr>\n",
              "      <th>0</th>\n",
              "      <td>스털링 다이빙 논란 종결?… “오른쪽 다리 접촉 있었잖아”</td>\n",
              "      <td>[유럽축구연맹(UEFA) 유로 2020 심판위원장 로베르토 로세티가 잉글랜드와 덴마...</td>\n",
              "      <td>2021-07-15</td>\n",
              "      <td>유럽 2020 심판위원장 로베르토 로세티가 잉글랜드와 덴마크전에 나온 ‘판정 논란’...</td>\n",
              "    </tr>\n",
              "    <tr>\n",
              "      <th>1</th>\n",
              "      <td>‘디 마리아 없다’ 유로X코파 베스트11, 이탈리아만 7명</td>\n",
              "      <td>[유로 2020과 코파 아메리카 2021로 베스트11을 만든다면 어떤 모습일까., ...</td>\n",
              "      <td>2021-07-15</td>\n",
              "      <td>영국에서 시작된 유로와 코파 아메리카가 11일(한국 시간) 끝난 후 공식 베스트11...</td>\n",
              "    </tr>\n",
              "    <tr>\n",
              "      <th>2</th>\n",
              "      <td>‘슈퍼컴퓨터 예측’ 맨시티 우승-맨유 4위… 토트넘은 ‘6위’</td>\n",
              "      <td>[새 시즌이 시작하기도 전에 슈퍼컴퓨터가 예상한 순위가 나왔다., 영국 매체 ‘스포...</td>\n",
              "      <td>2021-07-15</td>\n",
              "      <td>영국 매체 '스포츠 바이블'은 맨체스터 시티가 승점 88을 쌓아 경쟁 팀들을 손쉽게...</td>\n",
              "    </tr>\n",
              "    <tr>\n",
              "      <th>3</th>\n",
              "      <td>“이재성, 완벽한 프로… 마인츠서 성공할 것” 킬 디렉터의 애정 듬뿍 응원</td>\n",
              "      <td>[홀슈타인 킬 우베 스토버 디렉터가 이재성을 향해 응원 메시지를 띄웠다., 이재성은...</td>\n",
              "      <td>2021-07-15</td>\n",
              "      <td>전북 여름 전북 현대를 떠난 이재성에게 독일 분데스리가 마인츠, 호펜하임을 비롯해 ...</td>\n",
              "    </tr>\n",
              "    <tr>\n",
              "      <th>4</th>\n",
              "      <td>‘홈킷과 딴판’ 바르사 팬들, NEW 어웨이 셔츠 호평… “가장 좋아하는 색!”</td>\n",
              "      <td>[FC 바르셀로나가 새 시즌 원정 유니폼을 공개했다., 팬들은 만족스럽다는 반응이다...</td>\n",
              "      <td>2021-07-15</td>\n",
              "      <td>FC 바르셀로나가 15일 공식 홈페이지를 통해 2021/2022시즌에 입을 어웨이 ...</td>\n",
              "    </tr>\n",
              "  </tbody>\n",
              "</table>\n",
              "</div>"
            ],
            "text/plain": [
              "                                          TITLE  \\\n",
              "0              스털링 다이빙 논란 종결?… “오른쪽 다리 접촉 있었잖아”   \n",
              "1              ‘디 마리아 없다’ 유로X코파 베스트11, 이탈리아만 7명   \n",
              "2            ‘슈퍼컴퓨터 예측’ 맨시티 우승-맨유 4위… 토트넘은 ‘6위’   \n",
              "3     “이재성, 완벽한 프로… 마인츠서 성공할 것” 킬 디렉터의 애정 듬뿍 응원   \n",
              "4  ‘홈킷과 딴판’ 바르사 팬들, NEW 어웨이 셔츠 호평… “가장 좋아하는 색!”   \n",
              "\n",
              "                                                TEXT  PUBLISH_DT  \\\n",
              "0  [유럽축구연맹(UEFA) 유로 2020 심판위원장 로베르토 로세티가 잉글랜드와 덴마...  2021-07-15   \n",
              "1  [유로 2020과 코파 아메리카 2021로 베스트11을 만든다면 어떤 모습일까., ...  2021-07-15   \n",
              "2  [새 시즌이 시작하기도 전에 슈퍼컴퓨터가 예상한 순위가 나왔다., 영국 매체 ‘스포...  2021-07-15   \n",
              "3  [홀슈타인 킬 우베 스토버 디렉터가 이재성을 향해 응원 메시지를 띄웠다., 이재성은...  2021-07-15   \n",
              "4  [FC 바르셀로나가 새 시즌 원정 유니폼을 공개했다., 팬들은 만족스럽다는 반응이다...  2021-07-15   \n",
              "\n",
              "                                             summary  \n",
              "0  유럽 2020 심판위원장 로베르토 로세티가 잉글랜드와 덴마크전에 나온 ‘판정 논란’...  \n",
              "1  영국에서 시작된 유로와 코파 아메리카가 11일(한국 시간) 끝난 후 공식 베스트11...  \n",
              "2  영국 매체 '스포츠 바이블'은 맨체스터 시티가 승점 88을 쌓아 경쟁 팀들을 손쉽게...  \n",
              "3  전북 여름 전북 현대를 떠난 이재성에게 독일 분데스리가 마인츠, 호펜하임을 비롯해 ...  \n",
              "4  FC 바르셀로나가 15일 공식 홈페이지를 통해 2021/2022시즌에 입을 어웨이 ...  "
            ]
          },
          "execution_count": 8,
          "metadata": {},
          "output_type": "execute_result"
        }
      ],
      "source": [
        "new_df.head()"
      ]
    },
    {
      "cell_type": "markdown",
      "id": "76f1f532",
      "metadata": {
        "id": "76f1f532"
      },
      "source": [
        "## Mecab으로 Tokenizing 후 Tf-idf + Truncated SVD 적용"
      ]
    },
    {
      "cell_type": "code",
      "execution_count": null,
      "id": "27f854a2",
      "metadata": {
        "id": "27f854a2"
      },
      "outputs": [],
      "source": [
        "from eunjeon import Mecab\n",
        "mecab = Mecab()"
      ]
    },
    {
      "cell_type": "code",
      "execution_count": null,
      "id": "cb7124e6",
      "metadata": {
        "id": "cb7124e6"
      },
      "outputs": [],
      "source": [
        "tokenized_text = []\n",
        "for text in new_df.TEXT:\n",
        "    tokenized_text.append(' '.join(mecab.morphs(' '.join(text))))"
      ]
    },
    {
      "cell_type": "code",
      "execution_count": null,
      "id": "712c4e5d",
      "metadata": {
        "id": "712c4e5d",
        "outputId": "a986f258-b88e-429b-9e61-fb2f694d3449"
      },
      "outputs": [
        {
          "data": {
            "text/plain": [
              "'유럽 축구 연맹 ( UEFA ) 유로 2020 심판 위원장 로 베르토 로세티 가 잉글랜드 와 덴마크 전 에 나온 ‘ 판정 논란 ’ 을 정심 이 라고 공언 했 다 . 지난 8 일 ( 한국 시간 ) 잉글랜드 와 덴마크 는 유로 2020 4 강 에서 결승 티켓 을 두 고 격돌 했 다 . 연장 접전 끝 에 잉글랜드 가 2 - 1 로 이겼 다 . 하지만 경기 후 논란 이 불거졌 다 . 1 - 1 로 팽팽 하 던 연장 전반 12 분 라힘 스털링 이 드리블 돌파 를 하 던 중 요아킴 멜레 와 마티아스 옌센 사이 에서 넘어졌 다 . 심판 은 곧장 페널티 스팟 을 찍 었 다 . 비디오 판 독실 과 의견 을 나눈 뒤 에 도 원심 을 유지 했 다 . 페널티킥을 얻 은 잉글랜드 는 해리 케인 이 실축 했 지만 , 흐른 볼 을 밀 어 넣 어 결승 티켓 을 따 냈 다 . 이 장면 을 두 고 갑론을박 이 펼쳐졌 다 . 스털링 은 경기 후 인터뷰 에서 “ 명백 한 페널티킥 ” 이 라고 주장 했 지만 , 전문가 들 의 의견 은 달랐 다 . 조제 모리뉴 AS 로마 감독 , 아르센 벵거 전 아스널 감독 은 “ 페널티킥이 아니 다 ” 고 입 을 모았 다 . 여전히 많 은 이야기 가 흘러나오 는 가운데 , 유로 2020 심판 위원장 로세티 가 오심 이 아니 라는 입장 을 내놨 다 . 로세티 위원장 은 14 일 영국 매체 ‘ 가디언 ’ 과 인터뷰 에서 “ 주심 은 5 번 수비수 ( 멜레 ) 를 주목 했 다 . 수비수 가 볼 을 터치 하 지 않 았 다고 봤 다 . 멜레 의 오른쪽 다리 와 스털링 의 오른쪽 다리 와 접촉 한 것 으로 확인 했 다 . 물론 접촉 강도 를 논할 수 있 지만 , 우리 는 항상 심판 이 의사 결정 과정 의 중심 이 되 길 바란다 ” 고 밝혔 다 . 로세티 위원장 이 심판 을 대표 해 의견 을 냈 지만 , 오심 이 라고 생각 하 는 이 들 이 받아들일지 는 미지수 다 . 스털링 은 평소 에 도 ‘ 다이빙 논란 ’ 에 시달려왔 고 , 많 은 이 들 의 머릿속 에 ‘ 다이버 ’ 라는 인식 이 가득 하 기 때문 이 다 .'"
            ]
          },
          "execution_count": 17,
          "metadata": {},
          "output_type": "execute_result"
        }
      ],
      "source": [
        "tokenized_text[0]"
      ]
    },
    {
      "cell_type": "code",
      "execution_count": null,
      "id": "4571712f",
      "metadata": {
        "id": "4571712f",
        "outputId": "af03c3be-7de3-4255-e715-896c7fc78dc2"
      },
      "outputs": [
        {
          "data": {
            "text/plain": [
              "TruncatedSVD(n_components=20, n_iter=100, random_state=122)"
            ]
          },
          "execution_count": 20,
          "metadata": {},
          "output_type": "execute_result"
        }
      ],
      "source": [
        "from sklearn.feature_extraction.text import TfidfVectorizer\n",
        "from sklearn.decomposition import TruncatedSVD\n",
        "\n",
        "vectorizer = TfidfVectorizer(stop_words='english', max_features= 1000, max_df = 0.5, smooth_idf=True)\n",
        "tfidf_matrix = vectorizer.fit_transform(tokenized_text)\n",
        "svd_model = TruncatedSVD(n_components=20, algorithm='randomized', n_iter=100, random_state=122)\n",
        "svd_model.fit(tfidf_matrix)"
      ]
    },
    {
      "cell_type": "markdown",
      "id": "325168ac",
      "metadata": {
        "id": "325168ac"
      },
      "source": [
        "## 기사 제목(Title)에 적용 시 1278"
      ]
    },
    {
      "cell_type": "code",
      "execution_count": null,
      "id": "abcac1ac",
      "metadata": {
        "id": "abcac1ac"
      },
      "outputs": [],
      "source": [
        "tokenized_title = []\n",
        "for title in new_df.TITLE:\n",
        "    tokenized_title.append(' '.join(mecab.morphs(title)))"
      ]
    },
    {
      "cell_type": "code",
      "execution_count": null,
      "id": "d7417b84",
      "metadata": {
        "id": "d7417b84"
      },
      "outputs": [],
      "source": [
        "anchor_ = svd_model.transform(vectorizer.transform(tokenized_title))"
      ]
    },
    {
      "cell_type": "code",
      "execution_count": null,
      "id": "6f162ab6",
      "metadata": {
        "id": "6f162ab6",
        "outputId": "2aa9aa41-723c-42f9-a79a-b4a6d9229760"
      },
      "outputs": [
        {
          "data": {
            "text/plain": [
              "1278.9111963083446"
            ]
          },
          "execution_count": 33,
          "metadata": {},
          "output_type": "execute_result"
        }
      ],
      "source": [
        "np.sum(anchor_)"
      ]
    },
    {
      "cell_type": "markdown",
      "id": "816e9264",
      "metadata": {
        "id": "816e9264"
      },
      "source": [
        "## Pororo 생성 요약"
      ]
    },
    {
      "cell_type": "code",
      "execution_count": null,
      "id": "14ccb1d8",
      "metadata": {
        "id": "14ccb1d8"
      },
      "outputs": [],
      "source": [
        "tokenized_abs_summary = []\n",
        "for text in new_df.summary:\n",
        "    tokenized_abs_summary.append(' '.join(mecab.morphs(text)))"
      ]
    },
    {
      "cell_type": "code",
      "execution_count": null,
      "id": "c4f77d15",
      "metadata": {
        "id": "c4f77d15",
        "outputId": "3d1f5ea3-0b07-46e2-f432-c221677bec76"
      },
      "outputs": [
        {
          "data": {
            "text/plain": [
              "'유럽 2020 심판 위원장 로 베르토 로세티 가 잉글랜드 와 덴마크 전 에 나온 ‘ 판정 논란 ’ 을 정심 이 라고 공언 했 지만 많 은 사람 들 이 받아들일지 는 미지수 다 .'"
            ]
          },
          "execution_count": 19,
          "metadata": {},
          "output_type": "execute_result"
        }
      ],
      "source": [
        "tokenized_abs_summary[0]"
      ]
    },
    {
      "cell_type": "code",
      "execution_count": null,
      "id": "3d83e0a5",
      "metadata": {
        "id": "3d83e0a5",
        "outputId": "0e45d148-d3e1-430f-eaa6-0a023c187ddf"
      },
      "outputs": [
        {
          "data": {
            "text/plain": [
              "1191.271032488458"
            ]
          },
          "execution_count": 35,
          "metadata": {},
          "output_type": "execute_result"
        }
      ],
      "source": [
        "abs_ = svd_model.transform(vectorizer.transform(tokenized_abs_summary))\n",
        "np.sum(abs_)"
      ]
    },
    {
      "cell_type": "markdown",
      "id": "e7fec481",
      "metadata": {
        "id": "e7fec481"
      },
      "source": [
        "## kobart 요약본"
      ]
    },
    {
      "cell_type": "code",
      "execution_count": null,
      "id": "1aac8068",
      "metadata": {
        "id": "1aac8068"
      },
      "outputs": [],
      "source": [
        "df = pd.read_csv('data_with_summary.csv')\n",
        "tokenized_kobart = []\n",
        "for summary in df.SUMMARY:\n",
        "    tokenized_kobart.append(' '.join(mecab.morphs(summary)))"
      ]
    },
    {
      "cell_type": "code",
      "execution_count": null,
      "id": "b24e9354",
      "metadata": {
        "id": "b24e9354",
        "outputId": "3ac78261-7708-4d4f-c488-6fa257e4b1a4"
      },
      "outputs": [
        {
          "data": {
            "text/plain": [
              "1156.505019970497"
            ]
          },
          "execution_count": 40,
          "metadata": {},
          "output_type": "execute_result"
        }
      ],
      "source": [
        "kobart_ = svd_model.transform(vectorizer.transform(tokenized_kobart))\n",
        "np.sum(kobart_)"
      ]
    },
    {
      "cell_type": "markdown",
      "id": "bc79ec1a",
      "metadata": {
        "id": "bc79ec1a"
      },
      "source": [
        "## Pororo 추출 요약"
      ]
    },
    {
      "cell_type": "code",
      "execution_count": null,
      "id": "a20bcc64",
      "metadata": {
        "id": "a20bcc64",
        "outputId": "300cdead-b909-4398-ccf6-4600f312e661"
      },
      "outputs": [
        {
          "name": "stdout",
          "output_type": "stream",
          "text": [
            "Wrong number or type of arguments for overloaded function 'Tagger_parse'.\n",
            "  Possible C/C++ prototypes are:\n",
            "    MeCab::Tagger::parse(MeCab::Model const &,MeCab::Lattice *)\n",
            "    MeCab::Tagger::parse(MeCab::Lattice *) const\n",
            "    MeCab::Tagger::parse(char const *)\n",
            "\n",
            "summary :  nan\n",
            "Wrong number or type of arguments for overloaded function 'Tagger_parse'.\n",
            "  Possible C/C++ prototypes are:\n",
            "    MeCab::Tagger::parse(MeCab::Model const &,MeCab::Lattice *)\n",
            "    MeCab::Tagger::parse(MeCab::Lattice *) const\n",
            "    MeCab::Tagger::parse(char const *)\n",
            "\n",
            "summary :  nan\n"
          ]
        },
        {
          "data": {
            "text/plain": [
              "1461.8876849319715"
            ]
          },
          "execution_count": 46,
          "metadata": {},
          "output_type": "execute_result"
        }
      ],
      "source": [
        "df = pd.read_csv('pororo_ext.csv')\n",
        "tokenized_por_ext = []\n",
        "for summary in df.summary:\n",
        "    try:\n",
        "        tokenized_por_ext.append(' '.join(mecab.morphs(summary)))\n",
        "    except NotImplementedError as e:\n",
        "        print(e)\n",
        "        print('summary : ', summary)\n",
        "ext_ = svd_model.transform(vectorizer.transform(tokenized_por_ext))\n",
        "np.sum(ext_)"
      ]
    },
    {
      "cell_type": "markdown",
      "id": "81735533",
      "metadata": {
        "id": "81735533"
      },
      "source": [
        "# kobertsum 추출 요약"
      ]
    },
    {
      "cell_type": "code",
      "execution_count": null,
      "id": "c5bd1a26",
      "metadata": {
        "id": "c5bd1a26",
        "outputId": "5290029f-0f92-4bc2-d395-edc044611e44"
      },
      "outputs": [
        {
          "name": "stdout",
          "output_type": "stream",
          "text": [
            "Wrong number or type of arguments for overloaded function 'Tagger_parse'.\n",
            "  Possible C/C++ prototypes are:\n",
            "    MeCab::Tagger::parse(MeCab::Model const &,MeCab::Lattice *)\n",
            "    MeCab::Tagger::parse(MeCab::Lattice *) const\n",
            "    MeCab::Tagger::parse(char const *)\n",
            "\n",
            "summary :  nan\n",
            "Wrong number or type of arguments for overloaded function 'Tagger_parse'.\n",
            "  Possible C/C++ prototypes are:\n",
            "    MeCab::Tagger::parse(MeCab::Model const &,MeCab::Lattice *)\n",
            "    MeCab::Tagger::parse(MeCab::Lattice *) const\n",
            "    MeCab::Tagger::parse(char const *)\n",
            "\n",
            "summary :  nan\n"
          ]
        },
        {
          "data": {
            "text/plain": [
              "1443.8575572582256"
            ]
          },
          "execution_count": 48,
          "metadata": {},
          "output_type": "execute_result"
        }
      ],
      "source": [
        "df = pd.read_csv('result.csv')\n",
        "tokenized_bertsum = []\n",
        "for summary in df.summary:\n",
        "    try:\n",
        "        tokenized_bertsum.append(' '.join(mecab.morphs(summary)))\n",
        "    except NotImplementedError as e:\n",
        "        print(e)\n",
        "        print('summary : ', summary)\n",
        "bertsum_ = svd_model.transform(vectorizer.transform(tokenized_bertsum))\n",
        "np.sum(bertsum_)"
      ]
    }
  ],
  "metadata": {
    "kernelspec": {
      "display_name": "Python 3 (ipykernel)",
      "language": "python",
      "name": "python3"
    },
    "language_info": {
      "codemirror_mode": {
        "name": "ipython",
        "version": 3
      },
      "file_extension": ".py",
      "mimetype": "text/x-python",
      "name": "python",
      "nbconvert_exporter": "python",
      "pygments_lexer": "ipython3",
      "version": "3.8.12"
    },
    "toc": {
      "base_numbering": 1,
      "nav_menu": {},
      "number_sections": true,
      "sideBar": true,
      "skip_h1_title": false,
      "title_cell": "Table of Contents",
      "title_sidebar": "Contents",
      "toc_cell": false,
      "toc_position": {},
      "toc_section_display": true,
      "toc_window_display": false
    },
    "colab": {
      "name": "기업과제4_10팀_LSATF-IDFSVD.ipynb",
      "provenance": [],
      "collapsed_sections": []
    }
  },
  "nbformat": 4,
  "nbformat_minor": 5
}