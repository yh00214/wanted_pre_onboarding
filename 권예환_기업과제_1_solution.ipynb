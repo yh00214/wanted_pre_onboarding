{
  "nbformat": 4,
  "nbformat_minor": 0,
  "metadata": {
    "colab": {
      "name": "기업과제_1.ipynb",
      "provenance": []
    },
    "kernelspec": {
      "name": "python3",
      "display_name": "Python 3"
    },
    "language_info": {
      "name": "python"
    }
  },
  "cells": [
    {
      "cell_type": "markdown",
      "source": [
        "문자열 집합 S가 존재한다. \n",
        "ex) S = {\"www\", \"xman\", \"yman\"}\n",
        "\n",
        "임의의 문자열이 N개 주어졌을 때, 각 임의의 문자열 내에 집합 S에 속하는 문자열이 존재하는지 판별하시오.\n",
        "\n"
      ],
      "metadata": {
        "id": "1WehiRJwkcUy"
      }
    },
    {
      "cell_type": "code",
      "source": [
        "import re\n",
        "import time\n",
        "\n",
        "def solution_1(subset_s:list, str_q:list) -> str:\n",
        "  '''\n",
        "  1 <= len(subset_s) <= 1000\n",
        "  1 <= len(str_q) <= 10000\n",
        "  '''\n",
        "  \n",
        "  ret = []\n",
        "  for q in str_q:\n",
        "    for s in subset_s:\n",
        "      included = 'Yes' if q.find(s) != -1 else 'No'\n",
        "      ret.append(included)\n",
        "  return ','.join(ret)\n",
        "\n",
        "N = int(input())\n",
        "subset_s = []\n",
        "str_input = input()\n",
        "for s in str_input.split(','):\n",
        "  subset_s.append(s)\n",
        "\n",
        "Q = int(input())\n",
        "str_q = []\n",
        "str_input = input()\n",
        "for s in str_input.split(','):\n",
        "  str_q.append(s)\n",
        "\n",
        "start = time.time()\n",
        "ret_1 = solution_1(subset_s, str_q)\n",
        "end = time.time()\n",
        "print(f\"{ret_1}, time : {end - start}\")\n",
        "\n",
        "\n"
      ],
      "metadata": {
        "colab": {
          "base_uri": "https://localhost:8080/"
        },
        "id": "ERyOdTMCk_RF",
        "outputId": "e1b3c286-bc00-492d-f7e5-f7462b0aa168"
      },
      "execution_count": null,
      "outputs": [
        {
          "output_type": "stream",
          "name": "stdout",
          "text": [
            "9\n",
            "aaa,aaaabb,aabbcc,abb,bcc,bbcc,aabbccdd,aaabb,cccd\n",
            "1\n",
            "aaaabbaabbccdd\n",
            "Yes,Yes,Yes,Yes,Yes,Yes,Yes,Yes,No, time : 5.2928924560546875e-05\n"
          ]
        }
      ]
    },
    {
      "cell_type": "markdown",
      "source": [
        "9\n",
        "\n",
        "aaa,aaaabb,aabbcc,abb,bcc,bbcc,aabbccdd,aaabb,cccd\n",
        "\n",
        "1\n",
        "\n",
        "aaaabbaabbccdd"
      ],
      "metadata": {
        "id": "uQUUwo9Ep_OV"
      }
    },
    {
      "cell_type": "code",
      "source": [
        "'''\n",
        "최대 입력에 대한 계산\n",
        "집합 s : a * 100 (type:str) 가 1000개\n",
        "문자열 q : b * 10000 (type:str)가 1000개\n",
        "\n",
        "'''\n",
        "\n",
        "N = 1000\n",
        "subset_s = []\n",
        "str_input = 'a' * 100\n",
        "\n",
        "\n",
        "for i in range(N):\n",
        "  subset_s.append(str_input)\n",
        "\n",
        "Q = 1000\n",
        "str_q = []\n",
        "str_input = 'b' * 10000\n",
        "for i in range(Q):\n",
        "  str_q.append(str_input)\n",
        "\n",
        "start = time.time()\n",
        "ret_1 = solution_1(subset_s, str_q)\n",
        "end = time.time()\n",
        "#print(f\"{ret_1}, time : {end - start}\")\n",
        "print(f\"time : {end - start}\")"
      ],
      "metadata": {
        "colab": {
          "base_uri": "https://localhost:8080/"
        },
        "id": "hIcy77B7EFU9",
        "outputId": "8ab78c8c-fdbb-471a-bb9c-c98296c9ec5b"
      },
      "execution_count": null,
      "outputs": [
        {
          "output_type": "stream",
          "name": "stdout",
          "text": [
            "time : 0.5396323204040527\n"
          ]
        }
      ]
    }
  ]
}