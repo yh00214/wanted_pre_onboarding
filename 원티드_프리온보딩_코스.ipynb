{
  "nbformat": 4,
  "nbformat_minor": 0,
  "metadata": {
    "colab": {
      "name": "원티드 프리온보딩 코스.ipynb",
      "provenance": [],
      "collapsed_sections": []
    },
    "kernelspec": {
      "name": "python3",
      "display_name": "Python 3"
    },
    "language_info": {
      "name": "python"
    }
  },
  "cells": [
    {
      "cell_type": "markdown",
      "source": [
        "# 문제 1) Tokenizer 생성하기"
      ],
      "metadata": {
        "id": "Qqev4zbFaXsg"
      }
    },
    {
      "cell_type": "code",
      "execution_count": 1,
      "metadata": {
        "id": "g8CtKZaGaN8W"
      },
      "outputs": [],
      "source": [
        "class Tokenizer():\n",
        "  def __init__(self):\n",
        "    self.word_dict = {'oov': 0}\n",
        "    self.fit_checker = False\n",
        "  \n",
        "  def preprocessing(self, sequences):\n",
        "    result = []\n",
        "    '''\n",
        "    1-1. `preprocessing()`\n",
        "\n",
        "    텍스트 전처리를 하는 함수입니다.\n",
        "\n",
        "    - input: 여러 영어 문장이 포함된 list 입니다. ex) ['I go to school.', 'I LIKE pizza!']\n",
        "    - output: 각 문장을 토큰화한 결과로, nested list 형태입니다. ex) [['i', 'go', 'to', 'school'], ['i', 'like', 'pizza']]\n",
        "    - 조건 1: 입력된 문장에 대해서 소문자로의 변환과 특수문자 제거를 수행합니다.\n",
        "    - 조건 2: 토큰화는 white space 단위로 수행합니다.\n",
        "    '''\n",
        "    import re\n",
        "    for sequence in sequences:\n",
        "      result.append([re.sub('[^a-zA-Z0-9]', '', word.lower()) for word in sequence.split()])\n",
        "\n",
        "    return result\n",
        "  \n",
        "  def fit(self, sequences):\n",
        "    self.fit_checker = False\n",
        "    '''\n",
        "    문제 1-2.\n",
        "    어휘 사전을 구축하는 함수입니다.\n",
        "\n",
        "    - input: 여러 영어 문장이 포함된 list 입니다. ex) ['I go to school.', 'I LIKE pizza!']\n",
        "    - 조건 1: 위에서 만든 `preprocessing` 함수를 이용하여 각 문장에 대해 토큰화를 수행합니다.\n",
        "    - 조건 2: 각각의 토큰을 정수 인덱싱 하기 위한 어휘 사전(`self.word_dict`)을 생성합니다.\n",
        "        - 주어진 코드에 있는 `self.word_dict`를 활용합니다.\n",
        "    '''\n",
        "    idx = 1\n",
        "    for token in self.preprocessing(sequences):\n",
        "      for word in token:\n",
        "        if word not in self.word_dict:\n",
        "          self.word_dict[word] = idx\n",
        "          idx += 1\n",
        "\n",
        "    self.fit_checker = True\n",
        "  \n",
        "  def transform(self, sequences):\n",
        "    result = []\n",
        "    tokens = self.preprocessing(sequences)\n",
        "    if self.fit_checker:\n",
        "      '''\n",
        "      문제 1-3.\n",
        "\n",
        "      어휘 사전을 활용하여 입력 문장을 정수 인덱싱하는 함수입니다.\n",
        "\n",
        "      - input: 여러 영어 문장이 포함된 list입니다. ex) ['I go to school.', 'I LIKE pizza!']\n",
        "      - output: 각 문장의 정수 인덱싱으로, nested list 형태입니다. ex) [[1, 2, 3, 4], [1, 5, 6]]\n",
        "      - 조건 1: 어휘 사전(`self.word_dict`)에 없는 단어는 'oov'의 index로 변환합니다.\n",
        "      '''\n",
        "      for token in tokens:\n",
        "        result.append([self.word_dict[tk] if tk in self.word_dict else self.word_dict['oov'] for tk in token])\n",
        "      return result\n",
        "    else:\n",
        "      raise Exception(\"Tokenizer instance is not fitted yet.\")\n",
        "      \n",
        "  def fit_transform(self, sequences):\n",
        "    self.fit(sequences)\n",
        "    result = self.transform(sequences)\n",
        "    return result"
      ]
    },
    {
      "cell_type": "markdown",
      "source": [
        "## 문제 1 테스트"
      ],
      "metadata": {
        "id": "YoX8P1Mvm6xC"
      }
    },
    {
      "cell_type": "code",
      "source": [
        "tokenizer = Tokenizer()\n",
        "\n",
        "tokenizer.fit_transform(('I go to school.', 'I LIKE pizza!'))\n"
      ],
      "metadata": {
        "colab": {
          "base_uri": "https://localhost:8080/"
        },
        "id": "A8OoY8Hqa9Mf",
        "outputId": "007734d3-483e-4ca1-af4d-0b623af8a57c"
      },
      "execution_count": 2,
      "outputs": [
        {
          "output_type": "execute_result",
          "data": {
            "text/plain": [
              "[[1, 2, 3, 4], [1, 5, 6]]"
            ]
          },
          "metadata": {},
          "execution_count": 2
        }
      ]
    },
    {
      "cell_type": "markdown",
      "source": [
        "# 문제 2) TfidfVectorizer 생성하기"
      ],
      "metadata": {
        "id": "LpqeGi-4m-V-"
      }
    },
    {
      "cell_type": "code",
      "source": [
        "class TfidfVectorizer:\n",
        "  def __init__(self, tokenizer):\n",
        "    self.tokenizer = tokenizer\n",
        "    self.fit_checker = False\n",
        "  \n",
        "  def fit(self, sequences):\n",
        "    tokenized = self.tokenizer.fit_transform(sequences)\n",
        "    '''\n",
        "    문제 2-1.\n",
        "\n",
        "    입력 문장들을 이용해 IDF 행렬을 만드는 함수입니다.\n",
        "\n",
        "    - input: 여러 영어 문장이 포함된 list 입니다. ex) ['I go to school.', 'I LIKE pizza!']\n",
        "    - 조건 1: IDF 행렬은 list 형태입니다.\n",
        "        - ex) [토큰1에 대한 IDF 값, 토큰2에 대한 IDF 값, .... ]\n",
        "    - 조건 2: IDF 값은 아래 식을 이용해 구합니다.\n",
        "        \n",
        "        $$\n",
        "        idf(d,t)=log_e(\\frac{n}{1+df(d,t)})\n",
        "        $$\n",
        "        \n",
        "        - $df(d,t)$ : 단어 t가 포함된 문장 d의 개수\n",
        "        - $n$ : 입력된 전체 문장 개수\n",
        "    - 조건 3: 입력된 문장의 토큰화에는 문제 1에서 만든 Tokenizer를 사용합니다.\n",
        "    '''\n",
        "    import math\n",
        "\n",
        "    n = len(sequences)\n",
        "    words = list(set([word for sentence in tokenized for word in sentence]))\n",
        "    self.idf_matrix = []\n",
        "    for word in words:\n",
        "      df = 0\n",
        "      for token in tokenized:\n",
        "        if word in token:\n",
        "          df += 1\n",
        "      self.idf_matrix.append(math.log( n / (1 + df) ))\n",
        "    self.fit_checker = True\n",
        "    \n",
        "\n",
        "  def transform(self, sequences):\n",
        "    if self.fit_checker:\n",
        "      tokenized = self.tokenizer.transform(sequences)\n",
        "      '''\n",
        "      문제 2-2.\n",
        "\n",
        "      입력 문장들을 이용해 TF-IDF 행렬을 만드는 함수입니다.\n",
        "\n",
        "      - input: 여러 영어 문장이 포함된 list입니다. ex) ['I go to school.', 'I LIKE pizza!']\n",
        "      - output : nested list 형태입니다.\n",
        "          \n",
        "          ex) [[tf-idf(1, 1), tf-idf(1, 2), tf-idf(1, 3)], [tf-idf(2, 1), tf-idf(2, 2), tf-idf(2, 3)]]\n",
        "          \n",
        "          |  | 토큰1 | 토큰2 | 토큰3 |\n",
        "          | --- | --- | --- | --- |\n",
        "          | 문장1 | tf-idf(1,1) | tf-idf(1,2) | tf-idf(1,3) |\n",
        "          | 문장2 | tf-idf(2,1) | tf-idf(2,2) | tf-idf(2,3) |\n",
        "          \n",
        "      - 조건1 : 입력 문장을 이용해 TF 행렬을 만드세요.\n",
        "          - $tf(d, t)$ : 문장 d에 단어 t가 나타난 횟수\n",
        "      - 조건2 : 문제 2-1( `fit()`)에서 만든 IDF 행렬과 아래 식을 이용해 TF-IDF 행렬을 만드세요\n",
        "      '''\n",
        "      self.tfidf_matrix = []\n",
        "      for token in tokenized:\n",
        "        self.tfidf_matrix.append( [ token.count(i+1) * self.idf_matrix[i] for i in range( len(self.idf_matrix) ) ] )\n",
        "\n",
        "      return self.tfidf_matrix\n",
        "    else:\n",
        "      raise Exception(\"TfidfVectorizer instance is not fitted yet.\")\n",
        "\n",
        "  \n",
        "  def fit_transform(self, sequences):\n",
        "    self.fit(sequences)\n",
        "    return self.transform(sequences)"
      ],
      "metadata": {
        "id": "P6f6WNWvm9kp"
      },
      "execution_count": 3,
      "outputs": []
    },
    {
      "cell_type": "markdown",
      "source": [
        "## 문제 2 테스트"
      ],
      "metadata": {
        "id": "ubFLH4YmozeW"
      }
    },
    {
      "cell_type": "code",
      "source": [
        "tfidfvectorizer = TfidfVectorizer(Tokenizer())\n",
        "tfidfvectorizer.fit_transform(('I go to school.', 'I LIKE pizza!'))"
      ],
      "metadata": {
        "colab": {
          "base_uri": "https://localhost:8080/"
        },
        "id": "WQkTGfwow7Q0",
        "outputId": "89a8e125-609f-41ed-f96c-92274257bf85"
      },
      "execution_count": 4,
      "outputs": [
        {
          "output_type": "execute_result",
          "data": {
            "text/plain": [
              "[[-0.40546510810816444, 0.0, 0.0, 0.0, 0.0, 0.0],\n",
              " [-0.40546510810816444, 0.0, 0.0, 0.0, 0.0, 0.0]]"
            ]
          },
          "metadata": {},
          "execution_count": 4
        }
      ]
    }
  ]
}